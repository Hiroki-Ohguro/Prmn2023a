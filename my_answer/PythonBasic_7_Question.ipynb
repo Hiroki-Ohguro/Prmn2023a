{
  "nbformat": 4,
  "nbformat_minor": 0,
  "metadata": {
    "colab": {
      "provenance": [],
      "include_colab_link": true
    },
    "kernelspec": {
      "name": "python3",
      "display_name": "Python 3"
    },
    "language_info": {
      "name": "python"
    }
  },
  "cells": [
    {
      "cell_type": "markdown",
      "metadata": {
        "id": "view-in-github",
        "colab_type": "text"
      },
      "source": [
        "<a href=\"https://colab.research.google.com/github/Hiroki-Ohguro/Prmn2023a/blob/main/my_answer/PythonBasic_7_Question.ipynb\" target=\"_parent\"><img src=\"https://colab.research.google.com/assets/colab-badge.svg\" alt=\"Open In Colab\"/></a>"
      ]
    },
    {
      "cell_type": "markdown",
      "source": [
        "# 第7章 課題"
      ],
      "metadata": {
        "id": "JR-0wWX5GOz4"
      }
    },
    {
      "cell_type": "markdown",
      "source": [
        "## 課題1"
      ],
      "metadata": {
        "id": "a-2Yu9QBGREf"
      }
    },
    {
      "cell_type": "markdown",
      "source": [
        "`ppap.txt`をアップロードしてください。  \n",
        "\n",
        "ピコ太郎さんの「PPAP」という歌の歌詞が書かれています。  \n",
        "まずはこのテキストファイルから歌詞を読み込んでください。"
      ],
      "metadata": {
        "id": "icanGSBB6KCB"
      }
    },
    {
      "cell_type": "markdown",
      "source": [
        "歌詞の単語の登場回数を数え、  \n",
        "出現回数の多い順にソートしたディクショナリを関数で返してください\n",
        "\n",
        "その後、そのディクショナリを出力してください"
      ],
      "metadata": {
        "id": "Wy8Sx90f6WTB"
      }
    },
    {
      "cell_type": "markdown",
      "source": [
        "＜実行結果＞  \n",
        "``` py\n",
        "{'pen': 8, 'i': 4, 'have': 4, 'apple': 4, 'pineapple': 4, 'a': 3, 'ppap': 1, 'an': 1}\n",
        "```"
      ],
      "metadata": {
        "id": "0Z2-_1dAQENU"
      }
    },
    {
      "cell_type": "code",
      "source": [
        "# 入力用（テキスト読み込み）\n",
        "\n",
        "with open(\"ppap.txt\",mode=\"r+\") as f:\n",
        " line = f.readline()\n",
        " lyrics = line\n",
        "\n",
        " # ファイルの中のテキストがなくなるまで読み込み\n",
        " while line:\n",
        "  line = f.readline()\n",
        "  lyrics += line\n",
        "\n",
        "print(lyrics)"
      ],
      "metadata": {
        "id": "5DzB6nze6d65",
        "outputId": "144e7e0e-344e-4d25-978d-abbe5a3467cc",
        "colab": {
          "base_uri": "https://localhost:8080/"
        }
      },
      "execution_count": 60,
      "outputs": [
        {
          "output_type": "stream",
          "name": "stdout",
          "text": [
            "PPAP\n",
            "I have a pen.\n",
            "I have an apple.\n",
            "Apple pen！\n",
            "I have a pen.\n",
            "I have a pineapple.\n",
            "Pineapple pen！\n",
            "Apple pen.\n",
            "Pineapple pen.\n",
            "Pen-pineapple-Apple-pen！\n"
          ]
        }
      ]
    },
    {
      "cell_type": "code",
      "source": [
        "# 入力用（カウントとメイン部分）\n",
        "\n",
        "import string\n",
        "\n",
        "def count(lyrics):\n",
        "  lyrics = lyrics.replace('！',' ')\n",
        "  lyrics = lyrics.replace('-',' ')\n",
        "  lyrics = lyrics.translate(str.maketrans('','',string.punctuation))\n",
        "\n",
        "  words = lyrics.lower().split()\n",
        "\n",
        "  counts = {}\n",
        "  for w in words:\n",
        "    counts[w] = counts.get(w,0)+1\n",
        "\n",
        "  freqs = sorted(counts.values(),reverse=True)\n",
        "  sorted_counts = {}\n",
        "  for f in freqs:\n",
        "    for k in counts.keys():\n",
        "      if counts[k] == f:\n",
        "        sorted_counts[k] = f\n",
        "\n",
        "  return sorted_counts\n",
        "\n",
        "\n",
        "\n",
        "\n",
        "\n",
        "sorted_dict = count(lyrics)\n",
        "print(sorted_dict)"
      ],
      "metadata": {
        "id": "NHsFskbC6fzq",
        "outputId": "501e23a5-79b6-4a33-df9a-25c22faf0969",
        "colab": {
          "base_uri": "https://localhost:8080/"
        }
      },
      "execution_count": 65,
      "outputs": [
        {
          "output_type": "stream",
          "name": "stdout",
          "text": [
            "{'pen': 8, 'i': 4, 'have': 4, 'apple': 4, 'pineapple': 4, 'a': 3, 'ppap': 1, 'an': 1}\n"
          ]
        }
      ]
    },
    {
      "cell_type": "markdown",
      "source": [
        "## 課題2"
      ],
      "metadata": {
        "id": "dSQu_cY6EpMk"
      }
    },
    {
      "cell_type": "markdown",
      "source": [
        "`toukei_seiseki.txt`をアップロードしてください。\n",
        "\n",
        "とある人の統計学の成績データになります。"
      ],
      "metadata": {
        "id": "b-ekHtnVEwsO"
      }
    },
    {
      "cell_type": "markdown",
      "source": [
        "成績評価を0~5の6段階でつけたいものとします。  \n",
        "\n",
        "|成績|点数|\n",
        "|:---| :--- |\n",
        "|$A$|5|\n",
        "|$B^{+}$|4|\n",
        "|$B$|3|\n",
        "|$B^{-}$|2|\n",
        "|$C^{+}$|1|\n",
        "|$C$|0|\n"
      ],
      "metadata": {
        "id": "L3i6Z8xg9eHr"
      }
    },
    {
      "cell_type": "markdown",
      "source": [
        "上表のように成績を変換する関数を作成してください  "
      ],
      "metadata": {
        "id": "EdC2oqvr9eHs"
      }
    },
    {
      "cell_type": "markdown",
      "source": [
        "この科目は、「5×全15回=最大点75点」に、  \n",
        "「全14回×50点=最大点700点を25点に圧縮したもの」の和によって成績判定を行います。"
      ],
      "metadata": {
        "id": "CbT-Ni7g9eHs"
      }
    },
    {
      "cell_type": "markdown",
      "source": [
        "適切に関数を使い、以下のデータの成績評価を行えるようにしてください\n",
        "\n",
        "\n"
      ],
      "metadata": {
        "id": "lrIoPU8b9eHs"
      }
    },
    {
      "cell_type": "markdown",
      "source": [
        "＜例＞  \n",
        "小テストの合計点は600点だったので25点満点に圧縮すると21.42点  \n",
        "課題は全て$B^+$評価だったので4×15=60点  \n",
        "合計点81.42点なので評定は「優」"
      ],
      "metadata": {
        "id": "-QKViYIF9eHt"
      }
    },
    {
      "cell_type": "code",
      "source": [
        "# 入力用\n",
        "\n",
        "\n",
        "def text_read():\n",
        "  with open(\"toukei_seiseki.txt\",mode=\"r+\") as f:\n",
        "    lines = f.read().splitlines()\n",
        "\n",
        "\n",
        "  for i in range(2,len(lines)):\n",
        "    kadai = lines[i].split(\"\\t\")[1]\n",
        "    if lines[i].split(\"\\t\")[2] != \"\" :\n",
        "      test = lines[i].split(\"\\t\")[2]\n",
        "    else:\n",
        "      test = \"0\"\n",
        "    seiseki_data[\"課題\"].append(kadai)\n",
        "    seiseki_data[\"小テスト\"].append(int(test))\n",
        "\n",
        "def henkan():\n",
        "  henkan_data = []\n",
        "  for kadai in seiseki_data[\"課題\"] :\n",
        "    kadai = kadai.replace(\"A\",\"5\").replace(\"B-\",\"2\").replace(\"B+\", \"4\").replace(\"B\",\"3\").replace(\"C+\",\"1\").replace(\"C\",\"0\")\n",
        "    henkan_data.append(int(kadai))\n",
        "\n",
        "  return henkan_data\n",
        "\n",
        "def assyuku():\n",
        "  return sum(seiseki_data[\"小テスト\"])*25/700\n",
        "\n",
        "\n",
        "seiseki_data = {\"課題\":[],\"小テスト\":[]}\n",
        "\n",
        "text_read()\n",
        "henkan_data = henkan()\n",
        "assyuku_point = assyuku()\n",
        "point = sum(henkan_data) + assyuku_point\n",
        "print(f\"合計点 : {sum(henkan_data) + assyuku_point}\")\n",
        "\n",
        "if point >= 90:\n",
        "  hyoutei = \"秀\"\n",
        "elif point >= 80:\n",
        "  hyoutei = \"優\"\n",
        "elif point >= 70:\n",
        "  hyoutei = \"良\"\n",
        "elif point >= 60:\n",
        "  hyoutei = \"可\"\n",
        "else:\n",
        "  hyoutei = \"不可\"\n",
        "\n",
        "\n",
        "print(f\"評定 : {hyoutei}\")"
      ],
      "metadata": {
        "id": "vZ1lU1LLGX2j",
        "outputId": "a060ffaf-1449-4540-e8a7-6ffed24e3e6b",
        "colab": {
          "base_uri": "https://localhost:8080/"
        }
      },
      "execution_count": 75,
      "outputs": [
        {
          "output_type": "stream",
          "name": "stdout",
          "text": [
            "合計点 : 91.60714285714286\n",
            "評定 : 秀\n"
          ]
        }
      ]
    },
    {
      "cell_type": "code",
      "source": [
        "# 参考 成績データの空ディクショナリ\n",
        "test_data = {\"課題\":[],\"小テスト\":[]}"
      ],
      "metadata": {
        "id": "B6heQ-a8Fk2C"
      },
      "execution_count": null,
      "outputs": []
    },
    {
      "cell_type": "markdown",
      "source": [
        "### 課題2 補足"
      ],
      "metadata": {
        "id": "E8ZRqBlkGW2D"
      }
    },
    {
      "cell_type": "markdown",
      "source": [
        "文字列を置換したいときは**`replace`メソッド**を使います。  \n",
        "\n",
        "複数回行いたいときは`replace`メソッドを複数回続けます。"
      ],
      "metadata": {
        "id": "s4IPiuNZGd96"
      }
    },
    {
      "cell_type": "code",
      "source": [
        "hantei_list = [\"60\",\"70\",\"80\",\"90\"]\n",
        "kekka_list = []\n",
        "\n",
        "\"\"\"\n",
        "リストから要素を取り出して指定の値を置換する\n",
        "\"\"\"\n",
        "for hantei in hantei_list:\n",
        "  hantei = hantei.replace(\"60\",\"可\").replace(\"70\",\"良\").replace(\"80\",\"優\").replace(\"90\",\"秀\")\n",
        "  kekka_list.append(hantei)\n",
        "\n",
        "print(kekka_list)"
      ],
      "metadata": {
        "colab": {
          "base_uri": "https://localhost:8080/"
        },
        "id": "83OyhJkDGupg",
        "outputId": "f242a522-4daf-4bf7-a2ec-76a9b2b8c04a"
      },
      "execution_count": null,
      "outputs": [
        {
          "output_type": "stream",
          "name": "stdout",
          "text": [
            "['可', '良', '優', '秀']\n"
          ]
        }
      ]
    },
    {
      "cell_type": "markdown",
      "source": [
        "## 課題3"
      ],
      "metadata": {
        "id": "ImanFioRIU6F"
      }
    },
    {
      "cell_type": "markdown",
      "source": [
        "`all_seiseki.txt`をアップロードしてください。\n",
        "\n",
        "とある人の2年春学期までの成績データになります。"
      ],
      "metadata": {
        "id": "9Q_HBLgfIXVf"
      }
    },
    {
      "cell_type": "markdown",
      "source": [
        "GPAを計算したいものとします。  \n",
        "成績に付与されるGPは以下の通りです。\n",
        "\n",
        "|成績|GP|\n",
        "|:---| :--- |\n",
        "|秀|4|\n",
        "|優|3|\n",
        "|良|2|\n",
        "|可|1|\n",
        "|不可|0|"
      ],
      "metadata": {
        "id": "wimEVJZUMWoL"
      }
    },
    {
      "cell_type": "markdown",
      "source": [
        "上表のように成績を変換する関数を作成してください"
      ],
      "metadata": {
        "id": "vLfMefKLNZsq"
      }
    },
    {
      "cell_type": "markdown",
      "source": [
        "GPAの計算式は以下の通りです。  \n",
        "$$\n",
        "GPA = \\frac{(GP×そのGPの単位数) の合計}{履修単位数}\n",
        "$$"
      ],
      "metadata": {
        "id": "pJ-Cltm9NbZ6"
      }
    },
    {
      "cell_type": "markdown",
      "source": [
        "適切に関数を使い、テキストデータのGPAを算出してください"
      ],
      "metadata": {
        "id": "k_jm9pzkOFAw"
      }
    },
    {
      "cell_type": "code",
      "source": [
        "# 入力用\n",
        "\n",
        "def text_read():\n",
        "  with open(\"all_seiseki.txt\",mode=\"r+\") as f:\n",
        "    lines = f.read().splitlines()\n",
        "\n",
        "  for i in range(1,len(lines)):\n",
        "    kamoku = lines[i].split(\"\\t\")[3]\n",
        "    score = lines[i].split(\"\\t\")[4]\n",
        "\n",
        "    seiseki2_data[\"授業\"].append(kamoku)\n",
        "    seiseki2_data[\"成績\"].append(score)\n",
        "\n",
        "    if lines[i].split(\"\\t\")[5] == \"1\":\n",
        "      one_unit_class.append(kamoku)\n",
        "\n",
        "\n",
        "def henkan():\n",
        "  henkan_data = []\n",
        "  for seiseki in seiseki2_data[\"成績\"]:\n",
        "    seiseki = seiseki.replace(\"秀\",\"4\").replace(\"優\",\"3\").replace(\"良\",\"2\").replace(\"可\",\"1\").replace(\"不可\",\"0\")\n",
        "    henkan_data.append(int(seiseki))\n",
        "\n",
        "  return henkan_data\n",
        "\n",
        "def goukei():\n",
        "  sum = 0\n",
        "  tani = 0\n",
        "  for i,kamoku in  enumerate(seiseki2_data[\"授業\"]):\n",
        "    if not kamoku in one_unit_class:\n",
        "      sum += 2*henkan_data[i]\n",
        "      tani += 2\n",
        "    else:\n",
        "      sum += henkan_data[i]\n",
        "      tani += 1\n",
        "  return sum,tani\n",
        "\n",
        "seiseki2_data = {\"授業\":[],\"成績\":[]}\n",
        "\n",
        "one_unit_class = []\n",
        "\n",
        "text_read()\n",
        "henkan_data = henkan()\n",
        "goukei_point,goukei_tani = goukei()\n",
        "gpa = round(goukei_point/goukei_tani,3)\n",
        "print(f\"GPA : {gpa}\")"
      ],
      "metadata": {
        "id": "4_KjT73rJAkT",
        "outputId": "eda11677-d354-4092-dd1f-dbf760466743",
        "colab": {
          "base_uri": "https://localhost:8080/"
        }
      },
      "execution_count": 80,
      "outputs": [
        {
          "output_type": "stream",
          "name": "stdout",
          "text": [
            "GPA : 3.262\n"
          ]
        }
      ]
    },
    {
      "cell_type": "code",
      "source": [
        "# 参考 1単位の授業をまとめたリスト\n",
        "one_unit_class = []"
      ],
      "metadata": {
        "id": "LiCCAoDqJA5r"
      },
      "execution_count": null,
      "outputs": []
    },
    {
      "cell_type": "code",
      "source": [
        "# 参考 成績データの空ディクショナリ\n",
        "seiseki_data = {\"授業\":[],\"成績\":[]}"
      ],
      "metadata": {
        "id": "AUVzFPP1JJlO"
      },
      "execution_count": null,
      "outputs": []
    }
  ]
}
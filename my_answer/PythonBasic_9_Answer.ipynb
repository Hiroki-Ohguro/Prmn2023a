{
  "nbformat": 4,
  "nbformat_minor": 0,
  "metadata": {
    "colab": {
      "provenance": []
    },
    "kernelspec": {
      "name": "python3",
      "display_name": "Python 3"
    },
    "language_info": {
      "name": "python"
    }
  },
  "cells": [
    {
      "cell_type": "markdown",
      "source": [
        "<a href=\"https://colab.research.google.com/github/kiryu-3/Prmn2023/blob/main/Python/Python_Basic/question/PythonBasic_9_Question.ipynb\" target=\"_parent\"><img src=\"https://colab.research.google.com/assets/colab-badge.svg\" alt=\"Open In Colab\"/></a>"
      ],
      "metadata": {
        "id": "i_oQ7a1-uMsS"
      }
    },
    {
      "cell_type": "markdown",
      "source": [
        "# オブジェクト指向2 課題"
      ],
      "metadata": {
        "id": "jQqGrJNkuFDD"
      }
    },
    {
      "cell_type": "markdown",
      "source": [
        "## 課題1"
      ],
      "metadata": {
        "id": "1DGEULJlZLkL"
      }
    },
    {
      "cell_type": "markdown",
      "source": [
        "以下の要件を満たすクラスを作成してください"
      ],
      "metadata": {
        "id": "he1ry54qZP56"
      }
    },
    {
      "cell_type": "markdown",
      "source": [
        "**指示**\n",
        "\n",
        "・ moveメソッド内で「歩いたよ」と出力するInsectクラスを作る  \n",
        "\n",
        "・ moveメソッド内で「飛んだよ」と出力するButterflyクラスを作る   \n",
        "　 このとき、ButterflyクラスはInsectクラスを継承する  \n",
        "\n",
        "・ moveメソッド内で「跳んだよ」と出力するLocustクラスを作る   \n",
        "　 このとき、LocustクラスはInsectクラスを継承する  \n",
        "\n",
        "・ moveメソッド内で「綺麗に飛んだよ」と出力するSwallowtailButterflyクラスを作る   \n",
        "　 このとき、SwallowtailButterflyクラスはButterflyクラスを継承する\n",
        "\n",
        "\n",
        "\n"
      ],
      "metadata": {
        "id": "PkJ0b9znZUMi"
      }
    },
    {
      "cell_type": "markdown",
      "source": [
        "4つのクラスのインスタンスをリストinsect_listに格納してください。  \n",
        "その後、格納した4つのインスタンスからmoveメソッドを呼び出してください。"
      ],
      "metadata": {
        "id": "sgs0j4slcDD9"
      }
    },
    {
      "cell_type": "code",
      "source": [
        "class Insect():\n",
        "  def move(self):\n",
        "    print(\"歩いたよ\")\n",
        "\n",
        "class Butterfly(Insect):\n",
        "  def move(self):\n",
        "    print(\"飛んだよ\")\n",
        "\n",
        "class Locust(Insect):\n",
        "  def move(self):\n",
        "    print(\"跳んだよ\")\n",
        "\n",
        "class SwallowtailButterfly(Butterfly):\n",
        "  def move(self):\n",
        "    print(\"綺麗に飛んだよ\")\n",
        "\n",
        "\n",
        "\n",
        "\n",
        "insect_list = []\n",
        "insect_list.append(Insect())\n",
        "insect_list.append(Butterfly())\n",
        "insect_list.append(Locust())\n",
        "insect_list.append(SwallowtailButterfly())\n",
        "\n",
        "for insect in insect_list:\n",
        "  insect.move()\n"
      ],
      "metadata": {
        "id": "p1fSdDIhrYbf",
        "outputId": "950a9526-aeb6-41ba-bf01-9b285312faec",
        "colab": {
          "base_uri": "https://localhost:8080/"
        }
      },
      "execution_count": 2,
      "outputs": [
        {
          "output_type": "stream",
          "name": "stdout",
          "text": [
            "歩いたよ\n",
            "飛んだよ\n",
            "跳んだよ\n",
            "綺麗に飛んだよ\n"
          ]
        }
      ]
    },
    {
      "cell_type": "markdown",
      "source": [
        "## 課題2\n",
        "\n"
      ],
      "metadata": {
        "id": "sxV6gRm8djFh"
      }
    },
    {
      "cell_type": "markdown",
      "source": [
        "以下の要件を満たすクラスを作成してください"
      ],
      "metadata": {
        "id": "AXc3PV3ddkyJ"
      }
    },
    {
      "cell_type": "markdown",
      "source": [
        "\n",
        "**指示**\n",
        "\n",
        " ・ クラス名は Car、属性として変数fuelを持つ\n",
        "\n",
        " ・ 引数なしコンストラクタでfuelを0で初期化する  \n",
        "\n",
        " ・ メソッドとして戻り値、引数無しのrun() を持つ  \n",
        " ・ run()メソッドではfuelを1消費して、走ったことが分かる文言を表示させる  \n",
        "     \t  　（例:  \"燃料を1消費して走りました。\"）    \n",
        "\n",
        " ・ fuelが0以下の時走れなかったことが分かる文言を表示させる  \n",
        "        \n",
        "\n",
        "\n"
      ],
      "metadata": {
        "id": "kvvx9u5Kdh8i"
      }
    },
    {
      "cell_type": "markdown",
      "source": [
        "Carに給油をするGasStationクラスを作成してください    \n",
        "\n",
        "・ クラス名はGasStation、コンストラクタ無し\n",
        "\n",
        "・ refuel()メソッドを持つ  \n",
        "\n",
        "・ refuel()ではCarのfuelを20増やす  \n",
        "\n",
        "・ refuel()では給油したことが分かる文言を表示する"
      ],
      "metadata": {
        "id": "SjRCbbdVd2cE"
      }
    },
    {
      "cell_type": "markdown",
      "source": [
        "今回はCarクラスを継承したBusクラスを作っていきましょう。"
      ],
      "metadata": {
        "id": "EN_PqJln9lFu"
      }
    },
    {
      "cell_type": "markdown",
      "source": [
        "**指示**\n",
        "\n",
        "・ クラス名は Bus、Carクラスを継承する\n",
        "\n",
        "・ Carクラスの属性に加えて、乗車定員を表す属性max_passenger（コンストラクタで定義）と、  \n",
        " 　 現在の乗員数を表す属性passenger（最初は0人）を定義する\n",
        "\n",
        "・ load()メソッドで、指定した人数をバスに乗せたり降ろしたりできるようにする    \n",
        "  （乗員数がマイナスにならないように注意する）\n",
        "\n",
        "・ 正の値を指定した場合はバスに乗せ、負の値を指定した場合はバスから降ろす  \n",
        "\n",
        "・ 乗車定員をオーバーしたらその旨を出力する。だが、客をさらに乗せることは可能にする\n",
        "        "
      ],
      "metadata": {
        "id": "H7G5D42r9vE1"
      }
    },
    {
      "cell_type": "markdown",
      "source": [
        "＜メイン部分のコード（固定）＞"
      ],
      "metadata": {
        "id": "nusSAbPjKb4h"
      }
    },
    {
      "cell_type": "code",
      "source": [
        "bus = Bus(50)\n",
        "gasstation = GasStation()\n",
        "\n",
        "bus.run()\n",
        "gasstation.refuel(bus)\n",
        "bus.run()\n",
        "\n",
        "bus.load(20)\n",
        "bus.load(-30)\n",
        "bus.load(60)\n",
        "bus.run()"
      ],
      "metadata": {
        "id": "qrDPJfQjKevB"
      },
      "execution_count": null,
      "outputs": []
    },
    {
      "cell_type": "markdown",
      "source": [
        "＜実行結果例＞  \n",
        "```\n",
        "燃料が足りないため走れませんでした。\n",
        "給油したことにより、fuelが20増えました。\n",
        "燃料を1消費して走りました。\n",
        "20人の客を乗せました\n",
        "現在の乗客数は20人です\n",
        "20人すべての乗客を降ろしました\n",
        "現在の乗客数は0人です\n",
        "60人の客を乗せました\n",
        "現在の乗客数は60人です\n",
        "乗車定員は50人です。定員オーバーです\n",
        "燃料を1消費して走りました。\n",
        "```"
      ],
      "metadata": {
        "id": "p0JrYtsAIvzU"
      }
    },
    {
      "cell_type": "code",
      "source": [
        "#クラス「Car」\n",
        "\n",
        "class Car():\n",
        "  def __init__(self):\n",
        "    self.fuel = 0\n",
        "  def run(self):\n",
        "    if self.fuel>=1:\n",
        "      self.fuel -= 1\n",
        "      print(\"燃料を1消費して走りました\")\n",
        "    else :\n",
        "      print(\"燃料が足りないため走れませんでした\")\n",
        "\n",
        "\n",
        "\n",
        "#クラス「GasStation」\n",
        "\n",
        "class GasStation():\n",
        "  def refuel(self,car):\n",
        "    car.fuel += 20\n",
        "    print(\"給油したことにより、fuelが20増えました\")\n",
        "\n",
        "\n",
        "\n",
        "#クラス「Bus」\n",
        "\n",
        "class Bus(Car):\n",
        "  def __init__(self,max_passenger):\n",
        "    super().__init__()\n",
        "    self.max_passenger = max_passenger\n",
        "    self.passenger = 0\n",
        "\n",
        "  def load(self,num):\n",
        "    if num>=0:\n",
        "      self.passenger += num\n",
        "      print(f\"{num}人の乗客を乗せました\")\n",
        "      if self.passenger>self.max_passenger:\n",
        "        print(f\"乗車店員は{self.max_passenger}人です。定員オーバーです\")\n",
        "    else:\n",
        "      num = -num\n",
        "      if self.passenger<num:\n",
        "        print(f\"現在{num}人は乗車していないので、全員を下ろします。\")\n",
        "        num = self.passenger\n",
        "      self.passenger -= num\n",
        "      print(f\"{num}人の乗客を下ろしました\")\n",
        "    print(f\"現在の乗客は{self.passenger}人です。\")\n",
        "\n",
        "\n",
        "\n",
        "\n",
        "\n",
        "\n",
        "#制御コード\n",
        "\n",
        "bus = Bus(50)\n",
        "gasstation = GasStation()\n",
        "\n",
        "bus.run()\n",
        "gasstation.refuel(bus)\n",
        "bus.run()\n",
        "\n",
        "bus.load(20)\n",
        "bus.load(-30)\n",
        "bus.load(60)\n",
        "bus.run()"
      ],
      "metadata": {
        "id": "PonrNBwVO69b",
        "outputId": "e78bf96b-7618-4bf0-f737-83b6373ae5e2",
        "colab": {
          "base_uri": "https://localhost:8080/"
        }
      },
      "execution_count": 13,
      "outputs": [
        {
          "output_type": "stream",
          "name": "stdout",
          "text": [
            "燃料が足りないため走れませんでした\n",
            "給油したことにより、fuelが20増えました\n",
            "燃料を1消費して走りました\n",
            "20人の乗客を乗せました\n",
            "現在の乗客は20人です。\n",
            "現在30人は乗車していないので、全員を下ろします。\n",
            "20人の乗客を下ろしました\n",
            "現在の乗客は0人です。\n",
            "60人の乗客を乗せました\n",
            "乗車店員は50人です。定員オーバーです\n",
            "現在の乗客は60人です。\n",
            "燃料を1消費して走りました\n"
          ]
        }
      ]
    },
    {
      "cell_type": "markdown",
      "source": [
        "## 課題3"
      ],
      "metadata": {
        "id": "8kY7RnsKL9wd"
      }
    },
    {
      "cell_type": "markdown",
      "source": [
        "以下の要件を満たすクラスを作成してください"
      ],
      "metadata": {
        "id": "ad8pyx_wL_zs"
      }
    },
    {
      "cell_type": "markdown",
      "source": [
        "**指示**\n",
        "\n",
        " Car クラスのrun()メソッドをBusクラス内でオーバーライドしてください  \n",
        "\n",
        "・ 乗客数が乗車定員を超えていたらバスが動けない旨を出力する  \n",
        "\n",
        "・ 何人降りれば動けるようになるか（乗車定員まで乗客を減らせるか）も同時に出力する\n"
      ],
      "metadata": {
        "id": "3aCcTxAaMFds"
      }
    },
    {
      "cell_type": "markdown",
      "source": [
        "＜メイン部分のコード（固定）＞"
      ],
      "metadata": {
        "id": "8wmrvEJjLOwa"
      }
    },
    {
      "cell_type": "code",
      "source": [
        "bus = Bus(50)\n",
        "gasstation = GasStation()\n",
        "\n",
        "bus.run()\n",
        "gasstation.refuel(bus)\n",
        "bus.run()\n",
        "\n",
        "bus.load(20)\n",
        "bus.load(-30)\n",
        "bus.load(60)\n",
        "bus.run()\n",
        "bus.load(-30)\n",
        "bus.run()"
      ],
      "metadata": {
        "id": "SHOfbPrwLL7v"
      },
      "execution_count": null,
      "outputs": []
    },
    {
      "cell_type": "markdown",
      "source": [
        "＜実行結果例＞\n",
        "\n",
        "```\n",
        "燃料が足りないため走れませんでした。\n",
        "給油したことにより、fuelが20増えました。\n",
        "燃料を1消費して走りました。\n",
        "20人の客を乗せました\n",
        "現在の乗客数は20人です\n",
        "20人すべての乗客を降ろしました\n",
        "現在の乗客数は0人です\n",
        "60人の客を乗せました\n",
        "現在の乗客数は60人です\n",
        "乗車定員は50人です。定員オーバーです\n",
        "乗車定員なので走れません\n",
        "最低でも10人降りる必要があります\n",
        "30人の乗客を降ろしました\n",
        "現在の乗客数は30人です\n",
        "燃料を1消費して走りました。\n",
        "```"
      ],
      "metadata": {
        "id": "wY1QAZeKMrwx"
      }
    },
    {
      "cell_type": "code",
      "source": [
        "#クラス「Car」\n",
        "\n",
        "class Car():\n",
        "\n",
        "  def __init__(self):\n",
        "    self.fuel = 0\n",
        "  def run(self):\n",
        "    if self.fuel>=1:\n",
        "      self.fuel -= 1\n",
        "      print(\"燃料を1消費して走りました\")\n",
        "    else :\n",
        "      print(\"燃料が足りないため走れませんでした\")\n",
        "\n",
        "class GasStation():\n",
        "  def refuel(self,car):\n",
        "    car.fuel += 20\n",
        "    print(\"給油したことにより、fuelが20増えました\")\n",
        "\n",
        "\n",
        "\n",
        "#クラス「Bus」\n",
        "\n",
        "class Bus(Car):\n",
        "  def run(self): #クラス「Car」のrunメソッドにオーバーライド\n",
        "    if self.passenger > self.max_passenger:\n",
        "      print(\"乗車定員なので走れません\")\n",
        "      print(f\"最低でも{self.passenger - self.max_passenger}人降りる必要があります\")\n",
        "    else:\n",
        "      super().run()\n",
        "\n",
        "  def __init__(self,max_passenger):\n",
        "    super().__init__()\n",
        "    self.max_passenger = max_passenger\n",
        "    self.passenger = 0\n",
        "\n",
        "  def load(self,num):\n",
        "    if num>=0:\n",
        "      self.passenger += num\n",
        "      print(f\"{num}人の乗客を乗せました\")\n",
        "      if self.passenger>self.max_passenger:\n",
        "        print(f\"乗車店員は{self.max_passenger}人です。定員オーバーです\")\n",
        "    else:\n",
        "      num = -num\n",
        "      if self.passenger<num:\n",
        "        print(f\"現在{num}人は乗車していないので、全員を下ろします。\")\n",
        "        num = self.passenger\n",
        "      self.passenger -= num\n",
        "      print(f\"{num}人の乗客を下ろしました\")\n",
        "    print(f\"現在の乗客は{self.passenger}人です。\")\n",
        "\n",
        "\n",
        "\n",
        "\n",
        "\n",
        "\n",
        "#制御コード\n",
        "\n",
        "bus = Bus(50)\n",
        "gasstation = GasStation()\n",
        "\n",
        "bus.run()\n",
        "gasstation.refuel(bus)\n",
        "bus.run()\n",
        "\n",
        "bus.load(20)\n",
        "bus.load(-30)\n",
        "bus.load(60)\n",
        "bus.run()\n",
        "bus.load(-30)\n",
        "bus.run()"
      ],
      "metadata": {
        "id": "w0h5DhqvO8VH",
        "outputId": "699fc4d1-3a2b-40e2-e530-52a2b7eca986",
        "colab": {
          "base_uri": "https://localhost:8080/"
        }
      },
      "execution_count": 18,
      "outputs": [
        {
          "output_type": "stream",
          "name": "stdout",
          "text": [
            "燃料が足りないため走れませんでした\n",
            "給油したことにより、fuelが20増えました\n",
            "燃料を1消費して走りました\n",
            "20人の乗客を乗せました\n",
            "現在の乗客は20人です。\n",
            "現在30人は乗車していないので、全員を下ろします。\n",
            "20人の乗客を下ろしました\n",
            "現在の乗客は0人です。\n",
            "60人の乗客を乗せました\n",
            "乗車店員は50人です。定員オーバーです\n",
            "現在の乗客は60人です。\n",
            "乗車定員なので走れません\n",
            "最低でも10人降りる必要があります\n",
            "30人の乗客を下ろしました\n",
            "現在の乗客は30人です。\n",
            "燃料を1消費して走りました\n"
          ]
        }
      ]
    }
  ]
}
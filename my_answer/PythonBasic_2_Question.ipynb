{
  "nbformat": 4,
  "nbformat_minor": 0,
  "metadata": {
    "colab": {
      "provenance": [],
      "toc_visible": true,
      "include_colab_link": true
    },
    "kernelspec": {
      "name": "python3",
      "display_name": "Python 3"
    },
    "language_info": {
      "name": "python"
    }
  },
  "cells": [
    {
      "cell_type": "markdown",
      "metadata": {
        "id": "view-in-github",
        "colab_type": "text"
      },
      "source": [
        "<a href=\"https://colab.research.google.com/github/Hiroki-Ohguro/Prmn2023a/blob/main/my_answer/PythonBasic_2_Question.ipynb\" target=\"_parent\"><img src=\"https://colab.research.google.com/assets/colab-badge.svg\" alt=\"Open In Colab\"/></a>"
      ]
    },
    {
      "cell_type": "markdown",
      "source": [
        "# 第2章 課題"
      ],
      "metadata": {
        "id": "C44SsXDACtHu"
      }
    },
    {
      "cell_type": "markdown",
      "source": [
        "## 課題1"
      ],
      "metadata": {
        "id": "OnkezWHRCwr9"
      }
    },
    {
      "cell_type": "markdown",
      "source": [
        "for文を使って、以下のように出力してください"
      ],
      "metadata": {
        "id": "q32rK-cECzCl"
      }
    },
    {
      "cell_type": "markdown",
      "source": [
        "![oSFeQoX.png](https://i.imgur.com/oSFeQoX.png)"
      ],
      "metadata": {
        "id": "FxMcxznVB6cI"
      }
    },
    {
      "cell_type": "code",
      "source": [
        "n = 4\n",
        "n = int(n)\n",
        "print()\n",
        "\n",
        "def pri_nothing(s):\n",
        "  for _ in range(s):\n",
        "    print(\"  \",end=\"\")\n",
        "\n",
        "def pri(t):\n",
        "  for _ in range(t):\n",
        "    print(\"*\",end=\"\")\n",
        "\n",
        "for i in range(1,n+1):\n",
        "  pri_nothing(n-i)\n",
        "  pri(2*i-1)\n",
        "  print()\n"
      ],
      "metadata": {
        "id": "iBFSsrdRC5Zt",
        "colab": {
          "base_uri": "https://localhost:8080/"
        },
        "outputId": "70130b48-731e-4da0-dd4b-188ce60f690c"
      },
      "execution_count": 33,
      "outputs": [
        {
          "output_type": "stream",
          "name": "stdout",
          "text": [
            "\n",
            "      *\n",
            "    ***\n",
            "  *****\n",
            "*******\n"
          ]
        }
      ]
    },
    {
      "cell_type": "markdown",
      "source": [
        "## 課題2"
      ],
      "metadata": {
        "id": "gIn-UqGTCagu"
      }
    },
    {
      "cell_type": "markdown",
      "source": [
        "課題1の場合を`n=4`として、nを自分で設定して出力できるようにしてください"
      ],
      "metadata": {
        "id": "ltdiEdqYDFy8"
      }
    },
    {
      "cell_type": "markdown",
      "source": [
        "＜例＞ n=5の場合  \n",
        "![o5NjugQ.png](https://imgur.com/o5NjugQ.png)"
      ],
      "metadata": {
        "id": "hw0FM8BRDHz1"
      }
    },
    {
      "cell_type": "code",
      "source": [
        "n = input(\"n = :\")\n",
        "n = int(n)\n",
        "print()\n",
        "\n",
        "def pri_nothing(s):\n",
        "  for _ in range(s):\n",
        "    print(\"  \",end=\"\")\n",
        "\n",
        "def pri(t):\n",
        "  for _ in range(t):\n",
        "    print(\"*\",end=\"\")\n",
        "\n",
        "for i in range(1,n+1):\n",
        "  pri_nothing(n-i)\n",
        "  pri(2*i-1)\n",
        "  print()"
      ],
      "metadata": {
        "id": "upd76Tv-FrIB",
        "colab": {
          "base_uri": "https://localhost:8080/"
        },
        "outputId": "e8485e81-f52e-4acb-c8ab-ab3aa3615b43"
      },
      "execution_count": 15,
      "outputs": [
        {
          "output_type": "stream",
          "name": "stdout",
          "text": [
            "n = :5\n",
            "\n",
            "        *\n",
            "      ***\n",
            "    *****\n",
            "  *******\n",
            "*********\n"
          ]
        }
      ]
    },
    {
      "cell_type": "markdown",
      "source": [
        "## 課題3"
      ],
      "metadata": {
        "id": "tLMJvwBDE7wT"
      }
    },
    {
      "cell_type": "markdown",
      "source": [
        "for文を使って、以下のように出力してください"
      ],
      "metadata": {
        "id": "vZNvWsG7E99q"
      }
    },
    {
      "cell_type": "markdown",
      "source": [
        "![oSirXec.png](https://imgur.com/oSirXec.png)"
      ],
      "metadata": {
        "id": "ijOV-ilXGDNR"
      }
    },
    {
      "cell_type": "code",
      "source": [
        "n = 4\n",
        "print()\n",
        "\n",
        "def pri_nothing(s):\n",
        "  for _ in range(s):\n",
        "    print(\"  \",end=\"\")\n",
        "\n",
        "def pri(t):\n",
        "  for _ in range(t):\n",
        "    print(\"*\",end=\"\")\n",
        "\n",
        "for i in range(1,n+1):\n",
        "  pri_nothing(n-i)\n",
        "  pri(2*i-1)\n",
        "  print()\n",
        "for j in range(1,n):\n",
        "  pri_nothing(j)\n",
        "  pri(2*n-1-2*j)\n",
        "  print()\n",
        "\n"
      ],
      "metadata": {
        "id": "Q5Ob9uZpGIE3",
        "colab": {
          "base_uri": "https://localhost:8080/"
        },
        "outputId": "f5cc2cee-42c4-4e29-9753-78ac40f51ea1"
      },
      "execution_count": 16,
      "outputs": [
        {
          "output_type": "stream",
          "name": "stdout",
          "text": [
            "\n",
            "      *\n",
            "    ***\n",
            "  *****\n",
            "*******\n",
            "  *****\n",
            "    ***\n",
            "      *\n"
          ]
        }
      ]
    },
    {
      "cell_type": "markdown",
      "source": [
        "## 課題4"
      ],
      "metadata": {
        "id": "Oh7whOPkGQ3I"
      }
    },
    {
      "cell_type": "markdown",
      "source": [
        "課題3の場合を`n=4`として、nを自分で設定して出力できるようにしてください"
      ],
      "metadata": {
        "id": "PnvT8MQbGS03"
      }
    },
    {
      "cell_type": "markdown",
      "source": [
        "＜例＞ n=5の場合  \n",
        "\n",
        "![my4J17V.png](https://i.imgur.com/my4J17V.png)"
      ],
      "metadata": {
        "id": "ZujkAbVMGzhn"
      }
    },
    {
      "cell_type": "code",
      "source": [
        "n = input(\"n = :\")\n",
        "n = int(n)\n",
        "print()\n",
        "\n",
        "def pri_nothing(s):\n",
        "  for _ in range(s):\n",
        "    print(\"  \",end=\"\")\n",
        "\n",
        "def pri(t):\n",
        "  for _ in range(t):\n",
        "    print(\"*\",end=\"\")\n",
        "\n",
        "for i in range(1,n+1):\n",
        "  pri_nothing(n-i)\n",
        "  pri(2*i-1)\n",
        "  print()\n",
        "for j in range(1,n):\n",
        "  pri_nothing(j)\n",
        "  pri(2*n-1-2*j)\n",
        "  print()"
      ],
      "metadata": {
        "id": "hCFNQ7mWG99u",
        "colab": {
          "base_uri": "https://localhost:8080/"
        },
        "outputId": "6bde5398-d3e5-4140-8365-140c166174cf"
      },
      "execution_count": 48,
      "outputs": [
        {
          "output_type": "stream",
          "name": "stdout",
          "text": [
            "n = :2\n",
            "\n",
            "  *\n",
            "***\n",
            "  *\n"
          ]
        }
      ]
    },
    {
      "cell_type": "markdown",
      "source": [
        "## 課題5"
      ],
      "metadata": {
        "id": "R2MvOK4wHJlK"
      }
    },
    {
      "cell_type": "markdown",
      "source": [
        "for文を使って、以下のように出力してください"
      ],
      "metadata": {
        "id": "ddMIUoaKHcwd"
      }
    },
    {
      "cell_type": "markdown",
      "source": [
        "![vDUi5eM.png](https://imgur.com/vDUi5eM.png)"
      ],
      "metadata": {
        "id": "CD1cVUlWHLVO"
      }
    },
    {
      "cell_type": "code",
      "source": [
        "n = 4\n",
        "\n",
        "def pri_nothing(s):\n",
        "  for _ in range(s):\n",
        "    print(\"  \",end=\"\")\n",
        "\n",
        "def pri(t):\n",
        "  for _ in range(t):\n",
        "    print(\"*\",end=\"\")\n",
        "\n",
        "for i in range(1,n):\n",
        "  pri_nothing(n-i)\n",
        "  pri(2*i-1)\n",
        "  pri_nothing(2*(n-i)-1)\n",
        "  pri(2*i-1)\n",
        "  print()\n",
        "\n",
        "for _ in range(0,n*4-3):\n",
        "  print(\"*\",end=\"\")\n",
        "print()\n",
        "for j in range(1,n):\n",
        "  pri_nothing(j)\n",
        "  pri(2*n-1-2*j)\n",
        "  pri_nothing(2*j-1)\n",
        "  pri(2*n-1-2*j)\n",
        "  print()"
      ],
      "metadata": {
        "id": "1pDkfJpUHd93",
        "colab": {
          "base_uri": "https://localhost:8080/"
        },
        "outputId": "ed2be94f-4a2d-4e9a-be38-69c37a2cb443"
      },
      "execution_count": 57,
      "outputs": [
        {
          "output_type": "stream",
          "name": "stdout",
          "text": [
            "      *          *\n",
            "    ***      ***\n",
            "  *****  *****\n",
            "*************\n",
            "  *****  *****\n",
            "    ***      ***\n",
            "      *          *\n"
          ]
        }
      ]
    },
    {
      "cell_type": "markdown",
      "source": [
        "## 課題6"
      ],
      "metadata": {
        "id": "oubbafOBHerl"
      }
    },
    {
      "cell_type": "markdown",
      "source": [
        "課題5の場合を`n=4`として、nを自分で設定して出力できるようにしてください"
      ],
      "metadata": {
        "id": "7SzgFdC-HzG9"
      }
    },
    {
      "cell_type": "markdown",
      "source": [
        "＜例＞ n=5の場合  \n",
        "\n",
        "![udkVlYG.png](https://imgur.com/udkVlYG.png)"
      ],
      "metadata": {
        "id": "LY8g9PVPH2OW"
      }
    },
    {
      "cell_type": "code",
      "source": [
        "n = input(\"n = :\")\n",
        "n = int(n)\n",
        "print()\n",
        "\n",
        "def pri_nothing(s):\n",
        "  for _ in range(s):\n",
        "    print(\"  \",end=\"\")\n",
        "\n",
        "def pri(t):\n",
        "  for _ in range(t):\n",
        "    print(\"*\",end=\"\")\n",
        "\n",
        "for i in range(1,n):\n",
        "  pri_nothing(n-i)\n",
        "  pri(2*i-1)\n",
        "  pri_nothing(2*(n-i)-1)\n",
        "  pri(2*i-1)\n",
        "  print()\n",
        "\n",
        "for _ in range(0,n*4-3):\n",
        "  print(\"*\",end=\"\")\n",
        "print()\n",
        "for j in range(1,n):\n",
        "  pri_nothing(j)\n",
        "  pri(2*n-1-2*j)\n",
        "  pri_nothing(2*j-1)\n",
        "  pri(2*n-1-2*j)\n",
        "  print()"
      ],
      "metadata": {
        "id": "XZOK5ulbH-tu",
        "colab": {
          "base_uri": "https://localhost:8080/"
        },
        "outputId": "bc3b1d62-b088-4d8d-fa53-e800d264c56d"
      },
      "execution_count": 58,
      "outputs": [
        {
          "output_type": "stream",
          "name": "stdout",
          "text": [
            "n = :20\n",
            "\n",
            "                                      *                                                                          *\n",
            "                                    ***                                                                      ***\n",
            "                                  *****                                                                  *****\n",
            "                                *******                                                              *******\n",
            "                              *********                                                          *********\n",
            "                            ***********                                                      ***********\n",
            "                          *************                                                  *************\n",
            "                        ***************                                              ***************\n",
            "                      *****************                                          *****************\n",
            "                    *******************                                      *******************\n",
            "                  *********************                                  *********************\n",
            "                ***********************                              ***********************\n",
            "              *************************                          *************************\n",
            "            ***************************                      ***************************\n",
            "          *****************************                  *****************************\n",
            "        *******************************              *******************************\n",
            "      *********************************          *********************************\n",
            "    ***********************************      ***********************************\n",
            "  *************************************  *************************************\n",
            "*****************************************************************************\n",
            "  *************************************  *************************************\n",
            "    ***********************************      ***********************************\n",
            "      *********************************          *********************************\n",
            "        *******************************              *******************************\n",
            "          *****************************                  *****************************\n",
            "            ***************************                      ***************************\n",
            "              *************************                          *************************\n",
            "                ***********************                              ***********************\n",
            "                  *********************                                  *********************\n",
            "                    *******************                                      *******************\n",
            "                      *****************                                          *****************\n",
            "                        ***************                                              ***************\n",
            "                          *************                                                  *************\n",
            "                            ***********                                                      ***********\n",
            "                              *********                                                          *********\n",
            "                                *******                                                              *******\n",
            "                                  *****                                                                  *****\n",
            "                                    ***                                                                      ***\n",
            "                                      *                                                                          *\n"
          ]
        }
      ]
    },
    {
      "cell_type": "markdown",
      "source": [
        "## 課題7"
      ],
      "metadata": {
        "id": "ouqTUmPQIKGF"
      }
    },
    {
      "cell_type": "markdown",
      "source": [
        "for文を使って、以下のように出力してください"
      ],
      "metadata": {
        "id": "WHSxdOHuIMRM"
      }
    },
    {
      "cell_type": "markdown",
      "source": [
        "![IuP0M16.png](https://imgur.com/IuP0M16.png)"
      ],
      "metadata": {
        "id": "-G--WFTkIM8s"
      }
    },
    {
      "cell_type": "code",
      "source": [
        "n = 4\n",
        "\n",
        "def pri_nothing(s):\n",
        "  for _ in range(s):\n",
        "    print(\"  \",end=\"\")\n",
        "\n",
        "def pri(t):\n",
        "  for _ in range(t):\n",
        "    print(\"*\",end=\"\")\n",
        "\n",
        "\n",
        "\n",
        "for a in range(0,2):\n",
        "  for i in range(1,n):\n",
        "    pri_nothing(n-i)\n",
        "    pri(2*i-1)\n",
        "    pri_nothing(2*(n-i)-1)\n",
        "    pri(2*i-1)\n",
        "    print()\n",
        "  for _ in range(0,n*4-3):\n",
        "    print(\"*\",end=\"\")\n",
        "  print()\n",
        "  for j in range(1,n-1):\n",
        "    pri_nothing(j)\n",
        "    pri(2*n-1-2*j)\n",
        "    pri_nothing(2*j-1)\n",
        "    pri(2*n-1-2*j)\n",
        "    print()\n",
        "pri_nothing(n-1)\n",
        "pri(1)\n",
        "pri_nothing(2*n-3)\n",
        "pri(1)"
      ],
      "metadata": {
        "id": "BVXjDteuIijL",
        "colab": {
          "base_uri": "https://localhost:8080/"
        },
        "outputId": "2fb5f3e2-5bf1-403f-812b-88089e6f6c35"
      },
      "execution_count": 14,
      "outputs": [
        {
          "output_type": "stream",
          "name": "stdout",
          "text": [
            "      *          *\n",
            "    ***      ***\n",
            "  *****  *****\n",
            "*************\n",
            "  *****  *****\n",
            "    ***      ***\n",
            "      *          *\n",
            "    ***      ***\n",
            "  *****  *****\n",
            "*************\n",
            "  *****  *****\n",
            "    ***      ***\n",
            "      *          *"
          ]
        }
      ]
    },
    {
      "cell_type": "markdown",
      "source": [
        "## 課題8"
      ],
      "metadata": {
        "id": "31u0ExX2IjWj"
      }
    },
    {
      "cell_type": "markdown",
      "source": [
        "課題7の場合を`n=4`として、nを自分で設定して出力できるようにしてください"
      ],
      "metadata": {
        "id": "zeOvmKarInpz"
      }
    },
    {
      "cell_type": "markdown",
      "source": [
        "＜例＞ n=5の場合  \n",
        "\n",
        "![AlTnu1k.png](https://imgur.com/AlTnu1k.png)"
      ],
      "metadata": {
        "id": "2uLR5sbKIov2"
      }
    },
    {
      "cell_type": "code",
      "source": [
        "n = input(\"n = :\")\n",
        "n = int(n)\n",
        "print()\n",
        "\n",
        "def pri_nothing(s):\n",
        "  for _ in range(s):\n",
        "    print(\"  \",end=\"\")\n",
        "\n",
        "def pri(t):\n",
        "  for _ in range(t):\n",
        "    print(\"*\",end=\"\")\n",
        "\n",
        "\n",
        "\n",
        "for a in range(0,2):\n",
        "  for i in range(1,n):\n",
        "    pri_nothing(n-i)\n",
        "    pri(2*i-1)\n",
        "    pri_nothing(2*(n-i)-1)\n",
        "    pri(2*i-1)\n",
        "    print()\n",
        "  for _ in range(0,n*4-3):\n",
        "    print(\"*\",end=\"\")\n",
        "  print()\n",
        "  for j in range(1,n-1):\n",
        "    pri_nothing(j)\n",
        "    pri(2*n-1-2*j)\n",
        "    pri_nothing(2*j-1)\n",
        "    pri(2*n-1-2*j)\n",
        "    print()\n",
        "pri_nothing(n-1)\n",
        "pri(1)\n",
        "pri_nothing(2*n-3)\n",
        "pri(1)\n",
        "\n",
        "\n",
        "  \n"
      ],
      "metadata": {
        "id": "TXJaIVbYI_Cd",
        "colab": {
          "base_uri": "https://localhost:8080/"
        },
        "outputId": "a7caa684-294a-442b-dbf9-4bb25a5c75c0"
      },
      "execution_count": 17,
      "outputs": [
        {
          "output_type": "stream",
          "name": "stdout",
          "text": [
            "n = :8\n",
            "\n",
            "              *                          *\n",
            "            ***                      ***\n",
            "          *****                  *****\n",
            "        *******              *******\n",
            "      *********          *********\n",
            "    ***********      ***********\n",
            "  *************  *************\n",
            "*****************************\n",
            "  *************  *************\n",
            "    ***********      ***********\n",
            "      *********          *********\n",
            "        *******              *******\n",
            "          *****                  *****\n",
            "            ***                      ***\n",
            "              *                          *\n",
            "            ***                      ***\n",
            "          *****                  *****\n",
            "        *******              *******\n",
            "      *********          *********\n",
            "    ***********      ***********\n",
            "  *************  *************\n",
            "*****************************\n",
            "  *************  *************\n",
            "    ***********      ***********\n",
            "      *********          *********\n",
            "        *******              *******\n",
            "          *****                  *****\n",
            "            ***                      ***\n",
            "              *                          *"
          ]
        }
      ]
    }
  ]
}
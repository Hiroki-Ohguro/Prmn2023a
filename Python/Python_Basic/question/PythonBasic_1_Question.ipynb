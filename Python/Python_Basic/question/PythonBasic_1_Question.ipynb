{
  "nbformat": 4,
  "nbformat_minor": 0,
  "metadata": {
    "colab": {
      "provenance": [],
      "include_colab_link": true
    },
    "kernelspec": {
      "name": "python3",
      "display_name": "Python 3"
    },
    "language_info": {
      "name": "python"
    }
  },
  "cells": [
    {
      "cell_type": "markdown",
      "metadata": {
        "id": "view-in-github",
        "colab_type": "text"
      },
      "source": [
        "<a href=\"https://colab.research.google.com/github/Hiroki-Ohguro/Prmn2023a/blob/main/Python/Python_Basic/question/PythonBasic_1_Question.ipynb\" target=\"_parent\"><img src=\"https://colab.research.google.com/assets/colab-badge.svg\" alt=\"Open In Colab\"/></a>"
      ]
    },
    {
      "cell_type": "markdown",
      "source": [
        "# 第1章 課題"
      ],
      "metadata": {
        "id": "kWc75ZFVvner"
      }
    },
    {
      "cell_type": "markdown",
      "source": [
        "## 課題1"
      ],
      "metadata": {
        "id": "bruivG-4v2Cc"
      }
    },
    {
      "cell_type": "markdown",
      "source": [
        "print関数を使って自分の情報を表示させる\n",
        "\n",
        "＜実行例＞ `b1998040 Chitose Taro`\n",
        "\n"
      ],
      "metadata": {
        "id": "OJ1NflXMv3mo"
      }
    },
    {
      "cell_type": "code",
      "execution_count": 1,
      "metadata": {
        "id": "e-ns59REvalm",
        "colab": {
          "base_uri": "https://localhost:8080/"
        },
        "outputId": "652aa7d8-32ff-4293-be26-26d6831a0f21"
      },
      "outputs": [
        {
          "output_type": "stream",
          "name": "stdout",
          "text": [
            "b2220470 Ohguro Hiroki\n"
          ]
        }
      ],
      "source": [
        "print(\"b2220470 Ohguro Hiroki\")\n"
      ]
    },
    {
      "cell_type": "markdown",
      "source": [
        "## 課題2"
      ],
      "metadata": {
        "id": "Y-1UjAcTwPkf"
      }
    },
    {
      "cell_type": "markdown",
      "source": [
        "int型変数`student_number`に学籍番号の数値の部分を代入し、  \n",
        "自分の情報を表示させる\n",
        "\n",
        "＜実行例＞ `b1998040 Chitose Taro`\n",
        "\n",
        "＜hint＞ 3通りあるはずです。"
      ],
      "metadata": {
        "id": "HvO1SGM4wRPg"
      }
    },
    {
      "cell_type": "code",
      "source": [
        "student_number = 2220470\n",
        "print(f\"b{student_number} Ohguro Hiroki\")"
      ],
      "metadata": {
        "id": "kXTNAYHLw1Mh",
        "colab": {
          "base_uri": "https://localhost:8080/"
        },
        "outputId": "93387766-f1c9-4617-9216-ed88f2ce1d97"
      },
      "execution_count": 2,
      "outputs": [
        {
          "output_type": "stream",
          "name": "stdout",
          "text": [
            "b2220470 Ohguro Hiroki\n"
          ]
        }
      ]
    },
    {
      "cell_type": "markdown",
      "source": [
        "## 課題3"
      ],
      "metadata": {
        "id": "9Tl25UnMw-Fd"
      }
    },
    {
      "cell_type": "markdown",
      "source": [
        "10から2800まで、10飛ばしの数を乱数で生成し、  \n",
        "2220000に足して、名前とともに表示させる\n",
        "\n",
        "＜実行例＞ `b2220010 Chitose Taro`"
      ],
      "metadata": {
        "id": "2WPpYUOLw_5H"
      }
    },
    {
      "cell_type": "code",
      "source": [
        "import random\n",
        "\n",
        "student_number_random = random.randint(10,2800)\n",
        "student_number = student_number_random - student_number_random%10\n",
        "\n",
        "print(f\"b{2220000+student_number} Ohguro Hiroki\")\n"
      ],
      "metadata": {
        "id": "8hxJMAqQ7uQy",
        "colab": {
          "base_uri": "https://localhost:8080/"
        },
        "outputId": "556dd6ad-c47a-47a1-8f25-047f5ab0bf2c"
      },
      "execution_count": 11,
      "outputs": [
        {
          "output_type": "stream",
          "name": "stdout",
          "text": [
            "b2220900 Ohguro Hiroki\n"
          ]
        }
      ]
    }
  ]
}